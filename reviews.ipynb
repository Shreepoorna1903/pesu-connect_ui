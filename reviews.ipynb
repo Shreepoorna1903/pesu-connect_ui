{
  "nbformat": 4,
  "nbformat_minor": 0,
  "metadata": {
    "colab": {
      "name": "PS1-Reviews.ipynb",
      "provenance": [],
      "include_colab_link": true
    },
    "kernelspec": {
      "name": "python3",
      "display_name": "Python 3"
    }
  },
  "cells": [
    {
      "cell_type": "markdown",
      "metadata": {
        "id": "view-in-github",
        "colab_type": "text"
      },
      "source": [
        "<a href=\"https://colab.research.google.com/github/Shreepoorna1903/pesu-connect_ui/blob/main/reviews.ipynb\" target=\"_parent\"><img src=\"https://colab.research.google.com/assets/colab-badge.svg\" alt=\"Open In Colab\"/></a>"
      ]
    },
    {
      "cell_type": "markdown",
      "metadata": {
        "id": "Jc2R3x6QSIFi"
      },
      "source": [
        "# Predicting Sentiment Labels\n",
        "\n",
        "In this experiment, you will explore the accuracy of sentiment classificaiton using different feature representations of text documents.\n",
        "\n",
        "First, you will implement `createBasicFeatures`, which creates a sparse matrix representation of a collection of documents.  As we discussed in class, many classification models represent a document as a sparse vector of of features and their weights. Weights could be boolean, counts, tf-idf values, or other functions of the document. In a linear model, we then combine the document vectors with the candidate output classes and learn weights for each of the feature-class pairs. This last step is implemented for you.\n",
        "\n",
        "For this exercise, you should have a feature for each word containing at least one alphabetic character. You may use the `numpy` and `sklearn` packages to help with implementing a sparse matrix.\n",
        "\n",
        "Then, you will implement `createFancyFeatures`, which can specify at any other features you choose to help improve performance on the classification task.\n",
        "\n",
        "The two code blocks at the end train and evaluate two models—logistic regression with L1 and L2 regularization—using your featurization functions. Besides held-out classification accuracy with 10-fold cross-validation, you will also see the features in each class given high weights by the model.\n",
        "\n",
        "There are many helpful resources online for getting up to speed with vector representations of documents. One example is the first two chapters of Delip Rao and Brian McMahan, _Natural Language Processing with PyTorch_, O'Reilly, 2019.  You should be able to <a href=\"https://learning.oreilly.com/library/view/natural-language-processing/9781491978221/\">read it online</a> via the Northeastern Library's subscription using a <tt>northeastern.edu</tt> email address."
      ]
    },
    {
      "cell_type": "code",
      "metadata": {
        "id": "AdVS67_HNRmW"
      },
      "source": [
        "import json\n",
        "import requests\n",
        "from sklearn.linear_model import LogisticRegression\n",
        "from sklearn.model_selection import cross_validate,LeaveOneOut,KFold\n",
        "import numpy as np"
      ],
      "execution_count": 2,
      "outputs": []
    },
    {
      "cell_type": "code",
      "metadata": {
        "id": "PzjMY8fYQbB6",
        "cellView": "both"
      },
      "source": [
        "# read in the movie review corpus\n",
        "def readReviews():\n",
        "  raw = requests.get(\"https://raw.githubusercontent.com/dasmiq/cs6120-assignment2/refs/heads/main/cornell_reviews.json\").text.strip()\n",
        "  corpus = [json.loads(line) for line in raw.split(\"\\n\")]\n",
        "\n",
        "  return corpus"
      ],
      "execution_count": 3,
      "outputs": []
    },
    {
      "cell_type": "markdown",
      "metadata": {
        "id": "Qvd3I95FT01D"
      },
      "source": [
        "This is where you will implement two functions to featurize the data."
      ]
    },
    {
      "cell_type": "code",
      "metadata": {
        "id": "039fPQcF7OkN"
      },
      "source": [
        "# TODO: Implement createBasicFeatures\n",
        "# NB: The current contents are for testing only\n",
        "# This function should return:\n",
        "#  -a sparse numpy matrix of document features\n",
        "#  -a list of the correct class for each document\n",
        "#  -a list of the vocabulary used by the features, such that the ith term of the\n",
        "#    list is the word whose counts appear in the ith column of the matrix.\n",
        "import re\n",
        "from collections import Counter\n",
        "from scipy.sparse import coo_matrix\n",
        "\n",
        "Letter_present = re.compile(r\".*[A-Za-z].*\") # Regex value to keep tokens with 1 ASSCI charecter.\n",
        "\n",
        "# This function should create a feature representation using all tokens that\n",
        "# contain an alphabetic character.\n",
        "\n",
        "def letters_to_be_tokenized(text):\n",
        "    tokens = re.findall(r\"\\b\\w+\\b\", text.lower()) # Taking word chunks and turning them into simple words\n",
        "    return [t for t in tokens if Letter_present.fullmatch(t)]\n",
        "\n",
        "def createBasicFeatures(corpus):\n",
        "    raw_texts = [ex[\"text\"]  for ex in corpus] #iterating over the corpus and segregating on basis of text and label\n",
        "    classes   = [ex[\"label\"] for ex in corpus]\n",
        "\n",
        "    tokenizable_words = [letters_to_be_tokenized(t) for t in raw_texts]\n",
        "    vocab = sorted({tok for toks in tokenizable_words for tok in toks})\n",
        "    token_to_col = {tok: i for i, tok in enumerate(vocab)}\n",
        "\n",
        "\n",
        "    rows, cols, data = [], [], []\n",
        "    for i, toks in enumerate(tokenizable_words):  # Building matrix in triplet form as coo_matrix from scipy uses coordinate format (row, col, value) triples.\n",
        "        counts = Counter(toks)\n",
        "        for tok, cnt in counts.items():\n",
        "            rows.append(i)\n",
        "            cols.append(token_to_col[tok])\n",
        "            data.append(cnt)\n",
        "\n",
        "\n",
        "    texts = coo_matrix((data, (rows, cols)),\n",
        "                       shape=(len(raw_texts), len(vocab)),\n",
        "                       dtype=float).tocsr()\n",
        "\n",
        "    return texts, classes, vocab"
      ],
      "execution_count": 6,
      "outputs": []
    },
    {
      "cell_type": "code",
      "source": [
        "# TODO: Implement createFancyFeatures andn describe in comments what the\n",
        "# features are and why they might ben helpful.\n",
        "# This function can add other features you want that help classification\n",
        "# accuracy, such as bigrams, word prefixes and suffixes, etc.\n",
        "\n",
        "import re\n",
        "from collections import Counter\n",
        "from scipy.sparse import coo_matrix, hstack\n",
        "import math\n",
        "from sklearn.feature_extraction.text import TfidfTransformer\n",
        "\n",
        "def Add_bigramsFeature(tokens):\n",
        "    return [f\"{a}_{b}\" for a, b in zip(tokens, tokens[1:])] # building adjacent word bigrams\n",
        "\n",
        "def Add_ngramsFeature(token, min=3, max=5): # building adjacent word n grams ranging between 3 to 5\n",
        "    output = []\n",
        "    s = token\n",
        "    L = len(s)\n",
        "    for n in range(min, max + 1):\n",
        "        if L >= n:\n",
        "            output.extend(s[i:i+n] for i in range(L - n + 1))\n",
        "    return output\n",
        "\n",
        "def add_tfidf_feature(X_counts):\n",
        "    tfidf = TfidfTransformer(norm=\"l2\", use_idf=True, smooth_idf=True, sublinear_tf=True)\n",
        "    return tfidf.fit_transform(X_counts)\n",
        "\n",
        "def build_block(docs_features):\n",
        "    vocab = sorted({f for feats in docs_features for f in feats})\n",
        "    f2c = {f: i for i, f in enumerate(vocab)}\n",
        "    rows, cols, data = [], [], []\n",
        "    for r, feats in enumerate(docs_features):\n",
        "        counts = Counter(feats)\n",
        "        for f, c in counts.items():\n",
        "            rows.append(r); cols.append(f2c[f]); data.append(c)\n",
        "    X = coo_matrix((data, (rows, cols)), shape=(len(docs_features), len(vocab)), dtype=float).tocsr()\n",
        "    return X, vocab\n",
        "\n",
        "def createFancyFeatures(corpus, use_tfidf=True,ngramsPresent=True):\n",
        "    raw_texts = [ex[\"text\"]  for ex in corpus] #iterating over the corpus and segregating on basis of text and label\n",
        "    classes   = [ex[\"label\"] for ex in corpus]\n",
        "\n",
        "    tokenizable_words = [letters_to_be_tokenized(t) for t in raw_texts]\n",
        "\n",
        "    unigram_documents = tokenizable_words\n",
        "    X_unigram, V_unigram = build_block(unigram_documents)\n",
        "    V_unigram = [f\"uni:{w}\" for w in V_unigram]\n",
        "\n",
        "    bigram_documents = [Add_bigramsFeature(toks) for toks in tokenizable_words]\n",
        "    X_bigram, V_bigram = build_block(bigram_documents)\n",
        "    V_bigram = [f\"bi:{w}\" for w in V_bigram]\n",
        "\n",
        "    X_word = hstack([X_unigram, X_bigram], format=\"csr\")\n",
        "    V_word = V_unigram + V_bigram\n",
        "\n",
        "    if ngramsPresent:\n",
        "        char_docs = [[c for tok in toks for c in Add_ngramsFeature(tok, 3, 5)] for toks in tokenizable_words]\n",
        "        X_char, V_char = build_block(char_docs)\n",
        "        V_char = [f\"char:{w}\" for w in V_char]\n",
        "        X_all = hstack([X_word, X_char], format=\"csr\")\n",
        "        V_all = V_word + V_char\n",
        "    else:\n",
        "        X_all = X_word\n",
        "        V_all = V_word\n",
        "\n",
        "    texts = add_tfidf_feature(X_all) if use_tfidf else X_all\n",
        "    vocab = V_all\n",
        "\n",
        "    return texts, classes, vocab"
      ],
      "metadata": {
        "id": "zWCw2sYesF_y"
      },
      "execution_count": null,
      "outputs": []
    },
    {
      "cell_type": "code",
      "metadata": {
        "id": "KfTBqBltXe7Y"
      },
      "source": [
        "# given a numpy matrix representation of the features for the training set, the\n",
        "# vector of true classes for each example, and the vocabulary as described\n",
        "# above, this computes the accuracy of the model using leave one out cross\n",
        "# validation and reports the most indicative features for each class\n",
        "\n",
        "def evaluateModel(X,y,vocab,penalty=\"l1\"):\n",
        "  # create and fit the model\n",
        "  model = LogisticRegression(penalty=penalty,solver=\"liblinear\")\n",
        "  results = cross_validate(model,X,y,cv=KFold(n_splits=10, shuffle=True, random_state=1))\n",
        "\n",
        "  # determine the average accuracy\n",
        "  scores = results[\"test_score\"]\n",
        "  avg_score = sum(scores)/len(scores)\n",
        "\n",
        "  # determine the most informative features\n",
        "  # this requires us to fit the model to everything, because we need a\n",
        "  # single model to draw coefficients from, rather than 26\n",
        "  model.fit(X,y)\n",
        "  class0_weight_sorted = model.coef_[0, :].argsort()\n",
        "  class1_weight_sorted = (-model.coef_[0, :]).argsort()\n",
        "\n",
        "  termsToTake = 20\n",
        "  class0_indicators = [vocab[i] for i in class0_weight_sorted[:termsToTake]]\n",
        "  class1_indicators = [vocab[i] for i in class1_weight_sorted[:termsToTake]]\n",
        "\n",
        "  if model.classes_[0] == \"pos\":\n",
        "    return avg_score,class0_indicators,class1_indicators\n",
        "  else:\n",
        "    return avg_score,class1_indicators,class0_indicators\n",
        "\n",
        "def runEvaluation(X,y,vocab):\n",
        "  print(\"----------L1 Norm-----------\")\n",
        "  avg_score,pos_indicators,neg_indicators = evaluateModel(X,y,vocab,\"l1\")\n",
        "  print(\"The model's average accuracy is %f\"%avg_score)\n",
        "  print(\"The most informative terms for pos are: %s\"%pos_indicators)\n",
        "  print(\"The most informative terms for neg are: %s\"%neg_indicators)\n",
        "  #this call will fit a model with L2 normalization\n",
        "  print(\"----------L2 Norm-----------\")\n",
        "  avg_score,pos_indicators,neg_indicators = evaluateModel(X,y,vocab,\"l2\")\n",
        "  print(\"The model's average accuracy is %f\"%avg_score)\n",
        "  print(\"The most informative terms for pos are: %s\"%pos_indicators)\n",
        "  print(\"The most informative terms for neg are: %s\"%neg_indicators)"
      ],
      "execution_count": null,
      "outputs": []
    },
    {
      "cell_type": "code",
      "metadata": {
        "id": "VWWq5VgmECKV"
      },
      "source": [
        "corpus = readReviews()"
      ],
      "execution_count": 4,
      "outputs": []
    },
    {
      "cell_type": "markdown",
      "metadata": {
        "id": "72OUet02TjBo"
      },
      "source": [
        "Run the following to train and evaluate two models using basic features:"
      ]
    },
    {
      "cell_type": "code",
      "metadata": {
        "id": "4IpJ7PKjvc8I"
      },
      "source": [
        "X,y,vocab = createBasicFeatures(corpus)\n",
        "runEvaluation(X, y, vocab)"
      ],
      "execution_count": null,
      "outputs": []
    },
    {
      "cell_type": "markdown",
      "metadata": {
        "id": "4sjxLL2PTrJi"
      },
      "source": [
        "Run the following to train and evaluate two models using extended features:"
      ]
    },
    {
      "cell_type": "code",
      "metadata": {
        "id": "1iHudrPb5NPY"
      },
      "source": [
        "X,y,vocab = createFancyFeatures(corpus)\n",
        "runEvaluation(X, y, vocab)"
      ],
      "execution_count": null,
      "outputs": []
    },
    {
      "cell_type": "markdown",
      "source": [
        "**TODO**: Briefly comment on your results. You do _not_ need to beat the basic features model to get full credit."
      ],
      "metadata": {
        "id": "hz4n7U-XsTE_"
      }
    }
  ]
}